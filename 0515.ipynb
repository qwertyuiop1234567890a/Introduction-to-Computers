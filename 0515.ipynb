{
  "nbformat": 4,
  "nbformat_minor": 0,
  "metadata": {
    "colab": {
      "provenance": [],
      "authorship_tag": "ABX9TyO854sSPWzEkpeDzUsdHAmq",
      "include_colab_link": true
    },
    "kernelspec": {
      "name": "python3",
      "display_name": "Python 3"
    },
    "language_info": {
      "name": "python"
    }
  },
  "cells": [
    {
      "cell_type": "markdown",
      "metadata": {
        "id": "view-in-github",
        "colab_type": "text"
      },
      "source": [
        "<a href=\"https://colab.research.google.com/github/qwertyuiop1234567890a/Introduction-to-Computers/blob/main/0515.ipynb\" target=\"_parent\"><img src=\"https://colab.research.google.com/assets/colab-badge.svg\" alt=\"Open In Colab\"/></a>"
      ]
    },
    {
      "cell_type": "code",
      "execution_count": 1,
      "metadata": {
        "colab": {
          "base_uri": "https://localhost:8080/"
        },
        "id": "-rzhXYVwagCS",
        "outputId": "4d059236-277a-43ad-f1d3-7b23fcde55b4"
      },
      "outputs": [
        {
          "output_type": "stream",
          "name": "stdout",
          "text": [
            "0515\n"
          ]
        }
      ],
      "source": [
        "print(\"0515\")"
      ]
    },
    {
      "cell_type": "code",
      "source": [
        "rain=(input(\"今天會下雨嗎?:\"))\n",
        "if (rain==\"y\" or rain==\"Y\"):\n",
        "  print(\"出門記得帶傘\")\n",
        "elif(rain==\"n\" or rain==\"N\"):\n",
        "  print(\"出門不用帶傘\")\n",
        "else:\n",
        "  print(\"重新輸入\")"
      ],
      "metadata": {
        "colab": {
          "base_uri": "https://localhost:8080/"
        },
        "id": "eJ_hWH9Tauia",
        "outputId": "2d9d5ed5-1114-44d1-9be8-832a6845a242"
      },
      "execution_count": 5,
      "outputs": [
        {
          "output_type": "stream",
          "name": "stdout",
          "text": [
            "今天會下雨嗎?:j\n",
            "重新輸入\n"
          ]
        }
      ]
    },
    {
      "cell_type": "code",
      "source": [
        "體溫=float(input(\"請輸入你的體溫\"))\n",
        "if 體溫>37.5:\n",
        "  print(\"體溫過高\")\n",
        "elif 體溫>37 and 體溫<=37.4:\n",
        "  print(\"體溫略高\")\n",
        "elif 體溫>34 and 體溫<=36.9:\n",
        "  print(\"體溫正常\")\n",
        "else:\n",
        "  print(\"體溫異常，請重新測量\")"
      ],
      "metadata": {
        "colab": {
          "base_uri": "https://localhost:8080/"
        },
        "id": "PNyDH6jucefr",
        "outputId": "4a99a132-9ea0-4662-f62f-e03a5c653ea0"
      },
      "execution_count": 9,
      "outputs": [
        {
          "output_type": "stream",
          "name": "stdout",
          "text": [
            "請輸入你的體溫34.9\n",
            "體溫正常\n"
          ]
        }
      ]
    },
    {
      "cell_type": "code",
      "source": [
        "score=int(input(\"請輸入成績:\"))\n",
        "if score>90:\n",
        "  print(\"A\")\n",
        "elif score>80 and score<=89:\n",
        "  print(\"B\")\n",
        "elif score>70 and score<=79:\n",
        "  print(\"C\")\n",
        "elif score>60 and score<=69:\n",
        "  print(\"D\")\n",
        "else:\n",
        "  print(\"E\")"
      ],
      "metadata": {
        "colab": {
          "base_uri": "https://localhost:8080/"
        },
        "id": "IuavNrDJcQn-",
        "outputId": "31101e41-efe0-4e10-9bb9-43cf36c524dd"
      },
      "execution_count": 12,
      "outputs": [
        {
          "output_type": "stream",
          "name": "stdout",
          "text": [
            "請輸入成績:50\n",
            "E\n"
          ]
        }
      ]
    },
    {
      "cell_type": "code",
      "source": [
        "season=int(input(\"請輸入月份:\"))\n",
        "if season== 3 or 4 or 5:\n",
        "  print(str(season)+\"月是春天\")\n",
        "elif season== 6 or 7 or 8:\n",
        "  print(str(season)+\"月是夏天\")\n",
        "elif season== 9 or 10 or 11:\n",
        "  print(str(season)+\"月是秋天\")\n",
        "elif season== 12 or 1 or 2:\n",
        "  print(str(season)+\"月是冬天\")\n",
        "else:\n",
        "  print(\"月份不在範圍內\")"
      ],
      "metadata": {
        "colab": {
          "base_uri": "https://localhost:8080/"
        },
        "id": "MCQvVr72cO4y",
        "outputId": "eb4fc221-5b14-4f62-a43a-bb3dd72a0de1"
      },
      "execution_count": 36,
      "outputs": [
        {
          "output_type": "stream",
          "name": "stdout",
          "text": [
            "請輸入月份:3\n",
            "3月是春天\n"
          ]
        }
      ]
    },
    {
      "cell_type": "code",
      "source": [
        "收入=int(input(\"請輸入今年收入金額:\"))\n",
        "if 收入>=20000000:\n",
        "  print(\"稅率為0.3\")\n",
        "elif 收入>=10000000 and 收入<=1999999:\n",
        "  print(\"稅率為0.21\")\n",
        "elif 收入>=600000 and 收入<=999999:\n",
        "  print(\"稅率為0.13\")\n",
        "else:\n",
        "  print(\"不用繳稅\")"
      ],
      "metadata": {
        "colab": {
          "base_uri": "https://localhost:8080/"
        },
        "id": "yile3amdcO8o",
        "outputId": "a75aafc6-cb80-4e56-b24e-8eefa6cb4dae"
      },
      "execution_count": 13,
      "outputs": [
        {
          "output_type": "stream",
          "name": "stdout",
          "text": [
            "請輸入今年收入金額:1111111\n",
            "不用繳稅\n"
          ]
        }
      ]
    }
  ]
}