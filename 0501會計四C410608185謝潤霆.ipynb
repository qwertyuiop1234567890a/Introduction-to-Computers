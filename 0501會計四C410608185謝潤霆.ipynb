{
  "nbformat": 4,
  "nbformat_minor": 0,
  "metadata": {
    "colab": {
      "provenance": [],
      "authorship_tag": "ABX9TyOyBZR7kZSWf3SjxVI6XGD7",
      "include_colab_link": true
    },
    "kernelspec": {
      "name": "python3",
      "display_name": "Python 3"
    },
    "language_info": {
      "name": "python"
    }
  },
  "cells": [
    {
      "cell_type": "markdown",
      "metadata": {
        "id": "view-in-github",
        "colab_type": "text"
      },
      "source": [
        "<a href=\"https://colab.research.google.com/github/qwertyuiop1234567890a/Introduction-to-Computers/blob/main/0501%E6%9C%83%E8%A8%88%E5%9B%9BC410608185%E8%AC%9D%E6%BD%A4%E9%9C%86.ipynb\" target=\"_parent\"><img src=\"https://colab.research.google.com/assets/colab-badge.svg\" alt=\"Open In Colab\"/></a>"
      ]
    },
    {
      "cell_type": "code",
      "execution_count": null,
      "metadata": {
        "colab": {
          "base_uri": "https://localhost:8080/"
        },
        "id": "-bs3oI-4MFaq",
        "outputId": "759a286b-d08c-42b5-e860-35eaafb28b1b"
      },
      "outputs": [
        {
          "output_type": "stream",
          "name": "stdout",
          "text": [
            "0501\n"
          ]
        }
      ],
      "source": [
        "print(\"0501\")"
      ]
    },
    {
      "cell_type": "code",
      "source": [
        "a=int(input(\"請輸入本金存款金額:\"))\n",
        "b=float(a*(1+0.02)**6)\n",
        "print(\"六年後存款為\" , b )"
      ],
      "metadata": {
        "colab": {
          "base_uri": "https://localhost:8080/"
        },
        "id": "mzUuVaGuMMeU",
        "outputId": "77d1c11d-76c8-42a1-a8c7-16a2cfb8d6ae"
      },
      "execution_count": null,
      "outputs": [
        {
          "output_type": "stream",
          "name": "stdout",
          "text": [
            "請輸入本金存款金額:10000\n",
            "六年後存款為 11261.62419264\n"
          ]
        }
      ]
    },
    {
      "cell_type": "code",
      "source": [
        "print(\"hello world\")"
      ],
      "metadata": {
        "colab": {
          "base_uri": "https://localhost:8080/"
        },
        "id": "VGStzMw5O7D-",
        "outputId": "11939e91-50c4-4609-8089-a47cc9781db1"
      },
      "execution_count": null,
      "outputs": [
        {
          "output_type": "stream",
          "name": "stdout",
          "text": [
            "hello world\n"
          ]
        }
      ]
    },
    {
      "cell_type": "code",
      "source": [
        "F=float(input(\"溫度\"))\n",
        "攝氏溫度=float((F-32)*5/9)\n",
        "print(\"攝氏溫度為:\" , \"%.1f\" % 攝氏溫度)"
      ],
      "metadata": {
        "colab": {
          "base_uri": "https://localhost:8080/"
        },
        "id": "LIqW2tP0PPot",
        "outputId": "bf234625-da72-4b4e-fb40-4cb94dd9c878"
      },
      "execution_count": null,
      "outputs": [
        {
          "output_type": "stream",
          "name": "stdout",
          "text": [
            "溫度100\n",
            "攝氏溫度為: 37.8\n"
          ]
        }
      ]
    },
    {
      "cell_type": "code",
      "source": [
        "tmp=0\n",
        "for i in range(1,6):\n",
        "  tmp +=i\n",
        "print(\"%d\" % tmp)"
      ],
      "metadata": {
        "colab": {
          "base_uri": "https://localhost:8080/"
        },
        "id": "aX0Cs1D_gHHW",
        "outputId": "3703698e-da2b-4059-edc8-9a71f1daeb48"
      },
      "execution_count": 16,
      "outputs": [
        {
          "output_type": "stream",
          "name": "stdout",
          "text": [
            "15\n"
          ]
        }
      ]
    }
  ]
}